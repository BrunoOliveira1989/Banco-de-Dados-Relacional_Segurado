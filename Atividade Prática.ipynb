{
    "metadata": {
        "kernelspec": {
            "name": "SQL",
            "display_name": "SQL",
            "language": "sql"
        },
        "language_info": {
            "name": "sql",
            "version": ""
        }
    },
    "nbformat_minor": 2,
    "nbformat": 4,
    "cells": [
        {
            "cell_type": "code",
            "source": [
                "/*Criar Banco de Dados*/\r\n",
                "CREATE DATABASE Seguradora"
            ],
            "metadata": {
                "azdata_cell_guid": "4a027b17-c375-4b34-b12e-dcce89e44aa6",
                "language": "sql",
                "tags": []
            },
            "outputs": [
                {
                    "output_type": "display_data",
                    "data": {
                        "text/html": "Commands completed successfully."
                    },
                    "metadata": {}
                },
                {
                    "output_type": "display_data",
                    "data": {
                        "text/html": "Total execution time: 00:00:00.217"
                    },
                    "metadata": {}
                }
            ],
            "execution_count": 4
        },
        {
            "cell_type": "code",
            "source": [
                "/*Habilitar Usuário*/\r\n",
                "USE Seguradora"
            ],
            "metadata": {
                "azdata_cell_guid": "fd47a406-23ba-4843-934f-447d2988a5fd",
                "language": "sql",
                "tags": []
            },
            "outputs": [
                {
                    "output_type": "display_data",
                    "data": {
                        "text/html": "Commands completed successfully."
                    },
                    "metadata": {}
                },
                {
                    "output_type": "display_data",
                    "data": {
                        "text/html": "Total execution time: 00:00:00.042"
                    },
                    "metadata": {}
                }
            ],
            "execution_count": 9
        },
        {
            "cell_type": "code",
            "source": [
                "/*Criar tabela Cliente*/\r\n",
                "CREATE TABLE Cliente(\r\n",
                "    CodCliente INT PRIMARY KEY,\r\n",
                "    Nome VARCHAR(45) NOT NULL,\r\n",
                "    CPF VARCHAR(45) NOT NULL UNIQUE,\r\n",
                "    Sexo VARCHAR(20),\r\n",
                "    Estado VARCHAR(45),\r\n",
                "    Cidade VARCHAR(45) DEFAULT 'Itapira',\r\n",
                "    Bairro VARCHAR(45),\r\n",
                "    Numero VARCHAR(45),\r\n",
                "    Rua VARCHAR(45),\r\n",
                "    TelefoneFixo VARCHAR(45),\r\n",
                "    TelefoneCelular VARCHAR(45) NOT NULL UNIQUE,\r\n",
                ")"
            ],
            "metadata": {
                "language": "sql",
                "azdata_cell_guid": "af5f342f-a7e5-4129-8ba2-fc3a13060951"
            },
            "outputs": [
                {
                    "output_type": "display_data",
                    "data": {
                        "text/html": "Commands completed successfully."
                    },
                    "metadata": {}
                },
                {
                    "output_type": "display_data",
                    "data": {
                        "text/html": "Total execution time: 00:00:00.020"
                    },
                    "metadata": {}
                }
            ],
            "execution_count": 10
        },
        {
            "cell_type": "code",
            "source": [
                "/*Criar tabela Apolice*/\r\n",
                "CREATE TABLE Apolice(\r\n",
                "    CodApolice INT PRIMARY KEY,\r\n",
                "    ValorCobertura DECIMAL NOT NULL,\r\n",
                "    ValorFranquia DECIMAL NOT NULL,\r\n",
                "    DataInicioVigencia DATE NOT NULL CHECK (DataInicioVIgencia > SYSDATETIME()),\r\n",
                "    DataFimVigencia DATE NOT NULL ,\r\n",
                "    Cliente_CodCliente INT,\r\n",
                "    Carro_CodCarro INT,\r\n",
                "    CONSTRAINT fk_Apolice_Cliente FOREIGN KEY (Cliente_CodCliente) REFERENCES Cliente(CodCliente)\r\n",
                ")"
            ],
            "metadata": {
                "language": "sql",
                "azdata_cell_guid": "983f0022-6981-4237-91ee-3b2b5e392d8f",
                "tags": []
            },
            "outputs": [
                {
                    "output_type": "display_data",
                    "data": {
                        "text/html": "Commands completed successfully."
                    },
                    "metadata": {}
                },
                {
                    "output_type": "display_data",
                    "data": {
                        "text/html": "Total execution time: 00:00:00.017"
                    },
                    "metadata": {}
                }
            ],
            "execution_count": 17
        },
        {
            "cell_type": "code",
            "source": [
                "/*Criar tabela Carro*/\r\n",
                "CREATE TABLE Carro(\r\n",
                "   CodCarro INT PRIMARY KEY,\r\n",
                "   Placa VARCHAR(45),\r\n",
                "   Marca VARCHAR(45),\r\n",
                "   Modelo VARCHAR(45),\r\n",
                "   Ano VARCHAR(45),\r\n",
                "   Chassi VARCHAR(45),  \r\n",
                "   Cor VARCHAR(45),\r\n",
                ")"
            ],
            "metadata": {
                "language": "sql",
                "azdata_cell_guid": "a984514b-7116-4229-8ce3-8e60f9bdf8b5"
            },
            "outputs": [
                {
                    "output_type": "display_data",
                    "data": {
                        "text/html": "Commands completed successfully."
                    },
                    "metadata": {}
                },
                {
                    "output_type": "display_data",
                    "data": {
                        "text/html": "Total execution time: 00:00:00.002"
                    },
                    "metadata": {}
                }
            ],
            "execution_count": 18
        },
        {
            "cell_type": "code",
            "source": [
                "/*Chave Estrangeira Carro*/\r\n",
                "ALTER TABLE Apolice\r\n",
                "    ADD CONSTRAINT fk_Apolice_Carro FOREIGN KEY (Carro_CodCarro) REFERENCES Carro(CodCarro)"
            ],
            "metadata": {
                "language": "sql",
                "azdata_cell_guid": "07ec56c4-8242-421d-b104-de00505a8f21",
                "tags": []
            },
            "outputs": [
                {
                    "output_type": "display_data",
                    "data": {
                        "text/html": "Commands completed successfully."
                    },
                    "metadata": {}
                },
                {
                    "output_type": "display_data",
                    "data": {
                        "text/html": "Total execution time: 00:00:00.011"
                    },
                    "metadata": {}
                }
            ],
            "execution_count": 36
        },
        {
            "cell_type": "code",
            "source": [
                "/*Criar tabela Sinistro*/\r\n",
                "CREATE TABLE Sinistro(\r\n",
                "    CodSinistro INT,\r\n",
                "    HoraSinistro INT,\r\n",
                "    DataSinistro DATE,\r\n",
                "    LocalSinistro VARCHAR(45),\r\n",
                "    Condutor VARCHAR(45),\r\n",
                "    Carro_CodCarro INT,\r\n",
                "    CONSTRAINT pk_sinistro PRIMARY KEY(CodSinistro, Carro_CodCarro),\r\n",
                ")"
            ],
            "metadata": {
                "language": "sql",
                "azdata_cell_guid": "ed084ec9-a16f-4199-8b05-ea5124d0db46",
                "tags": []
            },
            "outputs": [
                {
                    "output_type": "display_data",
                    "data": {
                        "text/html": "Commands completed successfully."
                    },
                    "metadata": {}
                },
                {
                    "output_type": "display_data",
                    "data": {
                        "text/html": "Total execution time: 00:00:00.002"
                    },
                    "metadata": {}
                }
            ],
            "execution_count": 37
        },
        {
            "cell_type": "code",
            "source": [
                "/*Modifcado para Coluna Cliente_CodCliente ser obrigatória*/\r\n",
                "ALTER TABLE Apolice\r\n",
                "    ALTER COLUMN Cliente_CodCliente INT NOT NULL\r\n",
                ""
            ],
            "metadata": {
                "language": "sql",
                "azdata_cell_guid": "779735ba-6a76-470f-b4f2-9467d97309aa",
                "tags": []
            },
            "outputs": [
                {
                    "output_type": "display_data",
                    "data": {
                        "text/html": "Commands completed successfully."
                    },
                    "metadata": {}
                },
                {
                    "output_type": "display_data",
                    "data": {
                        "text/html": "Total execution time: 00:00:00.002"
                    },
                    "metadata": {}
                }
            ],
            "execution_count": 51
        },
        {
            "cell_type": "code",
            "source": [
                "/*Modifcado para Coluna Carro_CodCarro ser obrigatória*/\r\n",
                "ALTER TABLE Apolice\r\n",
                "    ALTER COLUMN Carro_CodCarro INT NOT NULL"
            ],
            "metadata": {
                "language": "sql",
                "azdata_cell_guid": "73feb93c-effa-4ba5-8715-2a1d30f79c01"
            },
            "outputs": [
                {
                    "output_type": "display_data",
                    "data": {
                        "text/html": "Commands completed successfully."
                    },
                    "metadata": {}
                },
                {
                    "output_type": "display_data",
                    "data": {
                        "text/html": "Total execution time: 00:00:00.002"
                    },
                    "metadata": {}
                }
            ],
            "execution_count": 50
        },
        {
            "cell_type": "code",
            "source": [
                "/*Chave Estrangeira Sinistro*/\r\n",
                "ALTER TABLE Sinistro\r\n",
                "    ADD CONSTRAINT fk_Sinistro_Carro FOREIGN KEY (Carro_CodCarro) REFERENCES Carro(CodCarro)"
            ],
            "metadata": {
                "language": "sql",
                "azdata_cell_guid": "44a516ec-172f-4a68-9b76-e3523877d8f6",
                "tags": []
            },
            "outputs": [
                {
                    "output_type": "display_data",
                    "data": {
                        "text/html": "Commands completed successfully."
                    },
                    "metadata": {}
                },
                {
                    "output_type": "display_data",
                    "data": {
                        "text/html": "Total execution time: 00:00:00.002"
                    },
                    "metadata": {}
                }
            ],
            "execution_count": 52
        }
    ]
}